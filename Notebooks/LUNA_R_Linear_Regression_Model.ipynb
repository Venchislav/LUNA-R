{
  "nbformat": 4,
  "nbformat_minor": 0,
  "metadata": {
    "colab": {
      "provenance": []
    },
    "kernelspec": {
      "name": "python3",
      "display_name": "Python 3"
    },
    "language_info": {
      "name": "python"
    }
  },
  "cells": [
    {
      "cell_type": "markdown",
      "source": [
        "# **INTRODUCING**\n",
        "Here's a Linear Regression Model Implementation <br> for my future fan made Machine Learning Framework<br> **LUNA-R** <br>\n",
        "___\n",
        "![logo.png](data:image/png;base64,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)"
      ],
      "metadata": {
        "id": "ysnrCr7OXGzm"
      }
    },
    {
      "cell_type": "code",
      "execution_count": 322,
      "metadata": {
        "id": "X-d3vu79XCqx"
      },
      "outputs": [],
      "source": [
        "import numpy as np\n",
        "import matplotlib.pyplot as plt"
      ]
    },
    {
      "cell_type": "code",
      "source": [
        "# Linear Regression class Implementation:\n",
        "\n",
        "\"\"\"\n",
        "Multivariable Linear Regression model basis:\n",
        "\"\"\""
      ],
      "metadata": {
        "colab": {
          "base_uri": "https://localhost:8080/",
          "height": 36
        },
        "id": "tkp5D3rIXyE4",
        "outputId": "b402b905-6108-4dd2-d2a8-37f067b62087"
      },
      "execution_count": 323,
      "outputs": [
        {
          "output_type": "execute_result",
          "data": {
            "text/plain": [
              "'\\nMultivariable Linear Regression model basis:\\n'"
            ],
            "application/vnd.google.colaboratory.intrinsic+json": {
              "type": "string"
            }
          },
          "metadata": {},
          "execution_count": 323
        }
      ]
    },
    {
      "cell_type": "code",
      "source": [
        "type(np.array([1, 2, 3])) is np.ndarray"
      ],
      "metadata": {
        "colab": {
          "base_uri": "https://localhost:8080/"
        },
        "id": "Bl1ftFjtZJ1H",
        "outputId": "03d61507-bcec-4391-8ab0-4010977e0e27"
      },
      "execution_count": 324,
      "outputs": [
        {
          "output_type": "execute_result",
          "data": {
            "text/plain": [
              "True"
            ]
          },
          "metadata": {},
          "execution_count": 324
        }
      ]
    },
    {
      "cell_type": "code",
      "source": [
        "\"\"\"\n",
        "\n",
        " __      __     _      _____ _____       _______ ____  _____\n",
        " \\ \\    / /\\   | |    |_   _|  __ \\   /\\|__   __/ __ \\|  __ \\\n",
        "  \\ \\  / /  \\  | |      | | | |  | | /  \\  | | | |  | | |__) |\n",
        "   \\ \\/ / /\\ \\ | |      | | | |  | |/ /\\ \\ | | | |  | |  _  /\n",
        "    \\  / ____ \\| |____ _| |_| |__| / ____ \\| | | |__| | | \\ \\\n",
        "     \\/_/    \\_\\______|_____|_____/_/    \\_\\_|  \\____/|_|  \\_\\\n",
        "\n",
        "\n",
        "                          VALIDATOR V 0.01\n",
        "                              --------\n",
        "\n",
        "          InputValidation class Purpose is to validate\n",
        "          inputs of particular model. It raises error messages\n",
        "          with help on fixing this bug.\n",
        "\n",
        "          Conditions checked:\n",
        "          1. Data Shapes\n",
        "          2. Data Types\n",
        "          3. Appropriate argument values\n",
        "\n",
        "\"\"\"\n",
        "class InputValidation:\n",
        "  def __init__(self):\n",
        "    pass\n",
        "\n",
        "  def linear_regression_valid(self, X, y, epochs, lr, verbose, loss):\n",
        "    try:\n",
        "      assert(X.shape[0] == y.shape[0])\n",
        "    except:\n",
        "      raise ValueError(\"X shape doesn't correspond to y shape  (number of samples doesn't match number of labels)\")\n",
        "\n",
        "    assert(loss.lower() in self.supported_loss)\n",
        "\n",
        "    assert np.all(X) == True and np. all(y) == True\n",
        "    assert(type(epochs) == int)\n",
        "    assert(type(lr) == float)\n",
        "\n",
        "    # if everything is fine\n",
        "    return 0"
      ],
      "metadata": {
        "id": "WuzSB0tuBjy5"
      },
      "execution_count": 325,
      "outputs": []
    },
    {
      "cell_type": "code",
      "source": [
        "\"\"\"\n",
        "  __  __  ____  _____ _____ ______ _____ ______ _____   _____\n",
        " |  \\/  |/ __ \\|  __ \\_   _|  ____|_   _|  ____|  __ \\ / ____|\n",
        " | \\  / | |  | | |  | || | | |__    | | | |__  | |__) | (___\n",
        " | |\\/| | |  | | |  | || | |  __|   | | |  __| |  _  / \\___ \\\n",
        " | |  | | |__| | |__| || |_| |     _| |_| |____| | \\ \\ ____) |\n",
        " |_|  |_|\\____/|_____/_____|_|    |_____|______|_|  \\_\\_____/\n",
        "\n",
        "\n",
        "                   MODIFIERS V 0.01\n",
        "                       --------\n",
        "\n",
        "              Modifiers are used for fitting\n",
        "              process customization and control.\n",
        "\n",
        "              V 0.01 Modifier List:\n",
        "              1. EarlyStopping\n",
        "\"\"\"\n",
        "\n",
        "\n",
        "class Modifiers:\n",
        "  def __init__(self):\n",
        "    pass\n",
        "\n",
        "  def early_stopping(loss, history, patience, temp_patience, delta):\n",
        "    if loss <= min(history) and min(history) - loss >= delta:\n",
        "      return 1\n",
        "\n",
        "    elif temp_patience >= patience:\n",
        "      return 0\n",
        "\n",
        "    else:\n",
        "      temp_patience += 1\n",
        "    return 2"
      ],
      "metadata": {
        "id": "x21aVtrTgkq8"
      },
      "execution_count": 326,
      "outputs": []
    },
    {
      "cell_type": "code",
      "source": [
        "\n",
        "\"\"\"\n",
        "\n",
        "  _      ____   _____ _____ ______  _____\n",
        " | |    / __ \\ / ____/ ____|  ____|/ ____|\n",
        " | |   | |  | | (___| (___ | |__  | (___\n",
        " | |   | |  | |\\___ \\\\___ \\|  __|  \\___ \\\n",
        " | |___| |__| |____) |___) | |____ ____) |\n",
        " |______\\____/|_____/_____/|______|_____/\n",
        "\n",
        "\n",
        "             LOSS MODULE V 0.01\n",
        "                 --------\n",
        "\n",
        "    Losses class Purpose is to set\n",
        "    different cost functions for\n",
        "    different models. Via these\n",
        "    cost functions model will be optimized\n",
        "    with optimization function.\n",
        "\n",
        "    V 0.01 Cost Function List:\n",
        "    1. Mean Squared Error (mse)\n",
        "    2. Mean Absolute Error (mae)\n",
        "\n",
        "\"\"\"\n",
        "\n",
        "\n",
        "class Losses:\n",
        "  def __init__(self):\n",
        "    pass\n",
        "\n",
        "  def mean_squared_error(self, y_true, y_pred):\n",
        "    loss = 0\n",
        "\n",
        "    for i in range(len(y_true)):\n",
        "      loss += (y_true[i] - y_pred[i]) ** 2\n",
        "\n",
        "    loss = loss / len(y_true)\n",
        "\n",
        "    return loss\n",
        "\n",
        "\n",
        "  def mean_absolute_error(self, y_true, y_pred):\n",
        "    loss = 0\n",
        "\n",
        "    for i in range(len(y_true)):\n",
        "      loss += abs(y_true[i] - y_pred[i])\n",
        "\n",
        "    loss = loss / len(y_true)\n",
        "\n",
        "    return loss"
      ],
      "metadata": {
        "id": "Uzo7wUClAk4d"
      },
      "execution_count": 327,
      "outputs": []
    },
    {
      "cell_type": "code",
      "source": [
        "\n",
        "\"\"\"\n",
        "  _      _                         _____                              _\n",
        " | |    (_)                       |  __ \\                            (_)\n",
        " | |     _ _ __   ___  __ _ _ __  | |__) |___  __ _ _ __ ___  ___ ___ _  ___  _ __\n",
        " | |    | | '_ \\ / _ \\/ _` | '__| |  _  // _ \\/ _` | '__/ _ \\/ __/ __| |/ _ \\| '_ \\\n",
        " | |____| | | | |  __/ (_| | |    | | \\ \\  __/ (_| | | |  __/\\__ \\__ \\ | (_) | | | |\n",
        " |______|_|_| |_|\\___|\\__,_|_|    |_|  \\_\\___|\\__, |_|  \\___||___/___/_|\\___/|_| |_|\n",
        "                                               __/ |\n",
        "                                              |___/\n",
        "\n",
        "\n",
        "                          Linear Regression Model V 0.01\n",
        "                                    --------\n",
        "\n",
        "                          Linear Regression is not only simple\n",
        "                          but really efficient and widely spread.\n",
        "\n",
        "                          This class implements Linear Regression\n",
        "                          with Gradient Descent optimization.\n",
        "\n",
        "\n",
        "                                    -------\n",
        "\n",
        "                                 M E T H O D S:\n",
        "\n",
        "                                    __init__\n",
        "\n",
        "                              Basic Initialization\n",
        "\n",
        "                              - loss history init\n",
        "                              - modifiers list init\n",
        "                              - supported losses init\n",
        "\n",
        "\n",
        "                                      fit\n",
        "\n",
        "\n",
        "                              - Fitting process algorithm\n",
        "                                    -------\n",
        "                                      fit\n",
        "                                   I N P U T:\n",
        "\n",
        "                                - array-like data\n",
        "                                - number of epochs\n",
        "                                - learning_rate (0.01 by default)\n",
        "                                - verbose level\n",
        "                                  (0 - no output;\n",
        "                                   1 - Only number of epochs;\n",
        "                                   2 and more - Full info with loss)\n",
        "                                - loss function (mse by default)\n",
        "\n",
        "                                    -------\n",
        "                                      fit\n",
        "                                 O U T P U T:\n",
        "\n",
        "                                 - weights\n",
        "                                 - bias\n",
        "\n",
        "                          V 0.01 Cost Function List:\n",
        "                          1. Mean Squared Error (mse)\n",
        "                          2. Mean Absolute Error (mae)\n",
        "\n",
        "\n",
        "\"\"\"\n",
        "\n",
        "\n",
        "\n",
        "class LinearRegression:\n",
        "  def __init__(self):\n",
        "\n",
        "    # useful variables initialization:\n",
        "\n",
        "    self.loss_history = [30]\n",
        "    self.supported_modifiers = {'early_stopping_modifier': Modifiers.early_stopping}\n",
        "    self.supported_loss = {'mse': Losses.mean_squared_error,\n",
        "                           'mae': Losses.mean_absolute_error}\n",
        "\n",
        "\n",
        "  def fit(self, X, y, epochs=0, lr=0.01, verbose=2, loss_function='mse', modifier=None, delta=0, patience=0):\n",
        "    # catch errors:\n",
        "    InputValidation.linear_regression_valid(self, X, y, epochs, lr, verbose, loss_function)\n",
        "\n",
        "    temp_patience = 0\n",
        "\n",
        "    n_samples, n_features = X.shape\n",
        "    self.weights = np.zeros(n_features)\n",
        "    self.bias = 0\n",
        "\n",
        "    for epoch in range(epochs):\n",
        "      dw = np.zeros(n_features)\n",
        "      db = 0\n",
        "\n",
        "      for sample in range(n_samples):\n",
        "        dw += (np.dot(self.weights, X[sample]) - y[sample] + self.bias) * X[sample]\n",
        "        db += np.dot(self.weights, X[sample]) - y[sample] + self.bias\n",
        "\n",
        "      self.weights -= 1 / n_samples * dw * lr\n",
        "      self.bias -= 1 / n_samples * db * lr\n",
        "\n",
        "      ### stats for nerds🤓\n",
        "\n",
        "      loss = self.supported_loss[loss_function](self, self.predict(X), y)\n",
        "      if verbose >= 2:\n",
        "        print(f'On Epoch: {epoch} | Loss is: {loss}')\n",
        "      elif verbose == 1:\n",
        "        print(f'Epoch: {epoch}/{epochs}')\n",
        "\n",
        "      # modifiers\n",
        "\n",
        "      if modifier:\n",
        "        if modifier in self.supported_modifiers:\n",
        "          result = self.supported_modifiers[modifier](loss, self.loss_history, patience, temp_patience, delta)\n",
        "          print(result)\n",
        "          if result == 1:\n",
        "            temp_patience = 0\n",
        "\n",
        "          elif result == 2:\n",
        "            temp_patience += 1\n",
        "\n",
        "          else:\n",
        "            return self.weights, self.bias\n",
        "\n",
        "      self.loss_history.append(loss)\n",
        "\n",
        "    return self.weights, self.bias\n",
        "\n",
        "\n",
        "  def predict(self, X):\n",
        "    preds = []\n",
        "\n",
        "    for x_i in X:\n",
        "      preds.append(np.dot(self.weights, x_i) + self.bias)\n",
        "\n",
        "    return preds\n"
      ],
      "metadata": {
        "id": "EU_uNMsRYB95"
      },
      "execution_count": 328,
      "outputs": []
    },
    {
      "cell_type": "markdown",
      "source": [
        "**LUNAR** LINEAR REGRESSION <br>\n",
        "___\n",
        "\n",
        "Test #1: Single Variable Linear Regression:"
      ],
      "metadata": {
        "id": "5q2m59Qy-NRh"
      }
    },
    {
      "cell_type": "code",
      "source": [
        "X = np.array([1, 2, 3])\n",
        "X = np.expand_dims(X, 1)\n",
        "y = np.array([2, 4, 6])"
      ],
      "metadata": {
        "id": "0P_PH-k6ePf7"
      },
      "execution_count": 329,
      "outputs": []
    },
    {
      "cell_type": "code",
      "source": [
        "np.all(y) == True"
      ],
      "metadata": {
        "colab": {
          "base_uri": "https://localhost:8080/"
        },
        "id": "IWRkhb1Def5V",
        "outputId": "aa5e0e3c-d886-442f-bb28-5f2fd002bc7f"
      },
      "execution_count": 330,
      "outputs": [
        {
          "output_type": "execute_result",
          "data": {
            "text/plain": [
              "True"
            ]
          },
          "metadata": {},
          "execution_count": 330
        }
      ]
    },
    {
      "cell_type": "code",
      "source": [
        "linear_model = LinearRegression()\n",
        "linear_model.fit(X, y, epochs=200, lr=0.1, verbose=52, loss_function='mae')"
      ],
      "metadata": {
        "colab": {
          "base_uri": "https://localhost:8080/"
        },
        "id": "BolON8vAeDyh",
        "outputId": "2cc96178-0a71-44e6-f6ab-e7483778c55b"
      },
      "execution_count": 331,
      "outputs": [
        {
          "output_type": "stream",
          "name": "stdout",
          "text": [
            "On Epoch: 0 | Loss is: 1.7333333333333336\n",
            "On Epoch: 1 | Loss is: 0.7244444444444449\n",
            "On Epoch: 2 | Loss is: 0.3990617283950617\n",
            "On Epoch: 3 | Loss is: 0.27539588477366284\n",
            "On Epoch: 4 | Loss is: 0.22699670781893003\n",
            "On Epoch: 5 | Loss is: 0.22660421947873774\n",
            "On Epoch: 6 | Loss is: 0.22492082981252862\n",
            "On Epoch: 7 | Loss is: 0.22268066616064633\n",
            "On Epoch: 8 | Loss is: 0.2202104563794136\n",
            "On Epoch: 9 | Loss is: 0.21765549436647516\n",
            "On Epoch: 10 | Loss is: 0.21508027445167274\n",
            "On Epoch: 11 | Loss is: 0.21251330919281486\n",
            "On Epoch: 12 | Loss is: 0.2099670890842987\n",
            "On Epoch: 13 | Loss is: 0.20744697164265644\n",
            "On Epoch: 14 | Loss is: 0.2049551401573829\n",
            "On Epoch: 15 | Loss is: 0.20249236670281304\n",
            "On Epoch: 16 | Loss is: 0.20005879727145034\n",
            "On Epoch: 17 | Loss is: 0.19765430140650744\n",
            "On Epoch: 18 | Loss is: 0.19527862788322312\n",
            "On Epoch: 19 | Loss is: 0.19293147401375613\n",
            "On Epoch: 20 | Loss is: 0.19061251648443248\n",
            "On Epoch: 21 | Loss is: 0.18832142506163363\n",
            "On Epoch: 22 | Loss is: 0.18605786866852458\n",
            "On Epoch: 23 | Loss is: 0.18382151806443328\n",
            "On Epoch: 24 | Loss is: 0.1816120470115369\n",
            "On Epoch: 25 | Loss is: 0.17942913276818562\n",
            "On Epoch: 26 | Loss is: 0.17727245628265628\n",
            "On Epoch: 27 | Loss is: 0.17514170225380563\n",
            "On Epoch: 28 | Loss is: 0.1730365591327526\n",
            "On Epoch: 29 | Loss is: 0.1709567190986047\n",
            "On Epoch: 30 | Loss is: 0.16890187802292175\n",
            "On Epoch: 31 | Loss is: 0.1668717354294683\n",
            "On Epoch: 32 | Loss is: 0.16486599445215275\n",
            "On Epoch: 33 | Loss is: 0.16288436179245278\n",
            "On Epoch: 34 | Loss is: 0.16092654767690165\n",
            "On Epoch: 35 | Loss is: 0.1589922658148799\n",
            "On Epoch: 36 | Loss is: 0.15708123335682433\n",
            "On Epoch: 37 | Loss is: 0.15519317085290144\n",
            "On Epoch: 38 | Loss is: 0.15332780221215567\n",
            "On Epoch: 39 | Loss is: 0.15148485466214692\n",
            "On Epoch: 40 | Loss is: 0.14966405870906177\n",
            "On Epoch: 41 | Loss is: 0.14786514809831056\n",
            "On Epoch: 42 | Loss is: 0.1460878597755911\n",
            "On Epoch: 43 | Loss is: 0.14433193384842444\n",
            "On Epoch: 44 | Loss is: 0.14259711354814777\n",
            "On Epoch: 45 | Loss is: 0.140883145192372\n",
            "On Epoch: 46 | Loss is: 0.1391897781478817\n",
            "On Epoch: 47 | Loss is: 0.1375167647939867\n",
            "On Epoch: 48 | Loss is: 0.1358638604863128\n",
            "On Epoch: 49 | Loss is: 0.13423082352102758\n",
            "On Epoch: 50 | Loss is: 0.13261741509949512\n",
            "On Epoch: 51 | Loss is: 0.13102339929335782\n",
            "On Epoch: 52 | Loss is: 0.12944854301003472\n",
            "On Epoch: 53 | Loss is: 0.12789261595863918\n",
            "On Epoch: 54 | Loss is: 0.12635539061630086\n",
            "On Epoch: 55 | Loss is: 0.12483664219489654\n",
            "On Epoch: 56 | Loss is: 0.12333614860817921\n",
            "On Epoch: 57 | Loss is: 0.12185369043930268\n",
            "On Epoch: 58 | Loss is: 0.12038905090873486\n",
            "On Epoch: 59 | Loss is: 0.11894201584256041\n",
            "On Epoch: 60 | Loss is: 0.1175123736411594\n",
            "On Epoch: 61 | Loss is: 0.11609991524826875\n",
            "On Epoch: 62 | Loss is: 0.11470443412040836\n",
            "On Epoch: 63 | Loss is: 0.11332572619668069\n",
            "On Epoch: 64 | Loss is: 0.11196358986892922\n",
            "On Epoch: 65 | Loss is: 0.11061782595225884\n",
            "On Epoch: 66 | Loss is: 0.109288237655909\n",
            "On Epoch: 67 | Loss is: 0.10797463055447576\n",
            "On Epoch: 68 | Loss is: 0.10667681255948169\n",
            "On Epoch: 69 | Loss is: 0.10539459389128784\n",
            "On Epoch: 70 | Loss is: 0.10412778705134107\n",
            "On Epoch: 71 | Loss is: 0.10287620679475513\n",
            "On Epoch: 72 | Loss is: 0.10163967010322583\n",
            "On Epoch: 73 | Loss is: 0.10041799615826481\n",
            "On Epoch: 74 | Loss is: 0.09921100631475992\n",
            "On Epoch: 75 | Loss is: 0.09801852407485272\n",
            "On Epoch: 76 | Loss is: 0.09684037506212768\n",
            "On Epoch: 77 | Loss is: 0.09567638699611465\n",
            "On Epoch: 78 | Loss is: 0.09452638966709515\n",
            "On Epoch: 79 | Loss is: 0.09339021491121224\n",
            "On Epoch: 80 | Loss is: 0.09226769658588241\n",
            "On Epoch: 81 | Loss is: 0.09115867054549816\n",
            "On Epoch: 82 | Loss is: 0.09006297461742581\n",
            "On Epoch: 83 | Loss is: 0.08898044857829095\n",
            "On Epoch: 84 | Loss is: 0.08791093413054989\n",
            "On Epoch: 85 | Loss is: 0.08685427487933979\n",
            "On Epoch: 86 | Loss is: 0.08581031630961178\n",
            "On Epoch: 87 | Loss is: 0.08477890576353457\n",
            "On Epoch: 88 | Loss is: 0.08375989241817017\n",
            "On Epoch: 89 | Loss is: 0.08275312726342203\n",
            "On Epoch: 90 | Loss is: 0.08175846308024311\n",
            "On Epoch: 91 | Loss is: 0.0807757544191096\n",
            "On Epoch: 92 | Loss is: 0.07980485757875015\n",
            "On Epoch: 93 | Loss is: 0.07884563058513357\n",
            "On Epoch: 94 | Loss is: 0.07789793317070821\n",
            "On Epoch: 95 | Loss is: 0.07696162675388922\n",
            "On Epoch: 96 | Loss is: 0.0760365744187969\n",
            "On Epoch: 97 | Loss is: 0.07512264089523057\n",
            "On Epoch: 98 | Loss is: 0.07421969253889331\n",
            "On Epoch: 99 | Loss is: 0.07332759731184584\n",
            "On Epoch: 100 | Loss is: 0.0724462247631988\n",
            "On Epoch: 101 | Loss is: 0.07157544601004003\n",
            "On Epoch: 102 | Loss is: 0.07071513371858289\n",
            "On Epoch: 103 | Loss is: 0.06986516208555112\n",
            "On Epoch: 104 | Loss is: 0.06902540681978027\n",
            "On Epoch: 105 | Loss is: 0.0681957451240427\n",
            "On Epoch: 106 | Loss is: 0.06737605567709097\n",
            "On Epoch: 107 | Loss is: 0.06656621861591845\n",
            "On Epoch: 108 | Loss is: 0.06576611551822949\n",
            "On Epoch: 109 | Loss is: 0.06497562938512506\n",
            "On Epoch: 110 | Loss is: 0.0641946446239916\n",
            "On Epoch: 111 | Loss is: 0.06342304703159944\n",
            "On Epoch: 112 | Loss is: 0.06266072377740321\n",
            "On Epoch: 113 | Loss is: 0.061907563387040586\n",
            "On Epoch: 114 | Loss is: 0.061163455726034176\n",
            "On Epoch: 115 | Loss is: 0.060428291983684414\n",
            "On Epoch: 116 | Loss is: 0.059701964657159344\n",
            "On Epoch: 117 | Loss is: 0.05898436753577382\n",
            "On Epoch: 118 | Loss is: 0.05827539568545914\n",
            "On Epoch: 119 | Loss is: 0.05757494543341727\n",
            "On Epoch: 120 | Loss is: 0.056882914352963145\n",
            "On Epoch: 121 | Loss is: 0.0561992012485432\n",
            "On Epoch: 122 | Loss is: 0.05552370614094201\n",
            "On Epoch: 123 | Loss is: 0.05485633025265768\n",
            "On Epoch: 124 | Loss is: 0.05419697599346115\n",
            "On Epoch: 125 | Loss is: 0.053545546946125455\n",
            "On Epoch: 126 | Loss is: 0.05290194785232346\n",
            "On Epoch: 127 | Loss is: 0.0522660845987016\n",
            "On Epoch: 128 | Loss is: 0.0516378642031167\n",
            "On Epoch: 129 | Loss is: 0.05101719480103828\n",
            "On Epoch: 130 | Loss is: 0.05040398563211701\n",
            "On Epoch: 131 | Loss is: 0.0497981470269111\n",
            "On Epoch: 132 | Loss is: 0.04919959039377438\n",
            "On Epoch: 133 | Loss is: 0.04860822820590253\n",
            "On Epoch: 134 | Loss is: 0.04802397398853264\n",
            "On Epoch: 135 | Loss is: 0.047446742306299715\n",
            "On Epoch: 136 | Loss is: 0.04687644875074204\n",
            "On Epoch: 137 | Loss is: 0.046313009927958206\n",
            "On Epoch: 138 | Loss is: 0.045756343446413585\n",
            "On Epoch: 139 | Loss is: 0.0452063679048913\n",
            "On Epoch: 140 | Loss is: 0.044663002880589\n",
            "On Epoch: 141 | Loss is: 0.044126168917358356\n",
            "On Epoch: 142 | Loss is: 0.04359578751408814\n",
            "On Epoch: 143 | Loss is: 0.04307178111322196\n",
            "On Epoch: 144 | Loss is: 0.04255407308941924\n",
            "On Epoch: 145 | Loss is: 0.04204258773835005\n",
            "On Epoch: 146 | Loss is: 0.04153725026562357\n",
            "On Epoch: 147 | Loss is: 0.04103798677585324\n",
            "On Epoch: 148 | Loss is: 0.04054472426184885\n",
            "On Epoch: 149 | Loss is: 0.040057390593941054\n",
            "On Epoch: 150 | Loss is: 0.039575914509435574\n",
            "On Epoch: 151 | Loss is: 0.039100225602190175\n",
            "On Epoch: 152 | Loss is: 0.038630254312320776\n",
            "On Epoch: 153 | Loss is: 0.03816593191602946\n",
            "On Epoch: 154 | Loss is: 0.0377071905155546\n",
            "On Epoch: 155 | Loss is: 0.03725396302924189\n",
            "On Epoch: 156 | Loss is: 0.03680618318173604\n",
            "On Epoch: 157 | Loss is: 0.03636378549428857\n",
            "On Epoch: 158 | Loss is: 0.0359267052751829\n",
            "On Epoch: 159 | Loss is: 0.035494878610275116\n",
            "On Epoch: 160 | Loss is: 0.03506824235364755\n",
            "On Epoch: 161 | Loss is: 0.03464673411837375\n",
            "On Epoch: 162 | Loss is: 0.03423029226739723\n",
            "On Epoch: 163 | Loss is: 0.0338188559045182\n",
            "On Epoch: 164 | Loss is: 0.033412364865488264\n",
            "On Epoch: 165 | Loss is: 0.03301075970921138\n",
            "On Epoch: 166 | Loss is: 0.032613981709055086\n",
            "On Epoch: 167 | Loss is: 0.032221972844259504\n",
            "On Epoch: 168 | Loss is: 0.031834675791454416\n",
            "On Epoch: 169 | Loss is: 0.03145203391627686\n",
            "On Epoch: 170 | Loss is: 0.03107399126509014\n",
            "On Epoch: 171 | Loss is: 0.030700492556801073\n",
            "On Epoch: 172 | Loss is: 0.030331483174775038\n",
            "On Epoch: 173 | Loss is: 0.029966909158851696\n",
            "On Epoch: 174 | Loss is: 0.029606717197453225\n",
            "On Epoch: 175 | Loss is: 0.029250854619788047\n",
            "On Epoch: 176 | Loss is: 0.028899269388150312\n",
            "On Epoch: 177 | Loss is: 0.028551910090308663\n",
            "On Epoch: 178 | Loss is: 0.028208725931989125\n",
            "On Epoch: 179 | Loss is: 0.02786966672944935\n",
            "On Epoch: 180 | Loss is: 0.02753468290213516\n",
            "On Epoch: 181 | Loss is: 0.027203725465435962\n",
            "On Epoch: 182 | Loss is: 0.02687674602351864\n",
            "On Epoch: 183 | Loss is: 0.026553696762251573\n",
            "On Epoch: 184 | Loss is: 0.026234530442212616\n",
            "On Epoch: 185 | Loss is: 0.02591920039178038\n",
            "On Epoch: 186 | Loss is: 0.025607660500312157\n",
            "On Epoch: 187 | Loss is: 0.02529986521139686\n",
            "On Epoch: 188 | Loss is: 0.02499576951619827\n",
            "On Epoch: 189 | Loss is: 0.024695328946869655\n",
            "On Epoch: 190 | Loss is: 0.024398499570052728\n",
            "On Epoch: 191 | Loss is: 0.02410523798045287\n",
            "On Epoch: 192 | Loss is: 0.023815501294492503\n",
            "On Epoch: 193 | Loss is: 0.023529247144040255\n",
            "On Epoch: 194 | Loss is: 0.02324643367021399\n",
            "On Epoch: 195 | Loss is: 0.022967019517262283\n",
            "On Epoch: 196 | Loss is: 0.022690963826515514\n",
            "On Epoch: 197 | Loss is: 0.02241822623040986\n",
            "On Epoch: 198 | Loss is: 0.02214876684658747\n",
            "On Epoch: 199 | Loss is: 0.021882546272061543\n"
          ]
        },
        {
          "output_type": "execute_result",
          "data": {
            "text/plain": [
              "(array([1.97112149]), 0.06564763881618481)"
            ]
          },
          "metadata": {},
          "execution_count": 331
        }
      ]
    },
    {
      "cell_type": "code",
      "source": [
        "y_pred = linear_model.predict(X)\n",
        "y_pred"
      ],
      "metadata": {
        "colab": {
          "base_uri": "https://localhost:8080/"
        },
        "id": "pG_enf4-fe0Z",
        "outputId": "02b18cee-ef13-4445-b47a-d4fc68d6fb2a"
      },
      "execution_count": 332,
      "outputs": [
        {
          "output_type": "execute_result",
          "data": {
            "text/plain": [
              "[2.0367691298271686, 4.007890620838153, 5.979012111849137]"
            ]
          },
          "metadata": {},
          "execution_count": 332
        }
      ]
    },
    {
      "cell_type": "code",
      "source": [
        "plt.scatter(X, y)\n",
        "plt.plot(X, y_pred, c='red');"
      ],
      "metadata": {
        "colab": {
          "base_uri": "https://localhost:8080/",
          "height": 430
        },
        "id": "D68a-tEIeUr6",
        "outputId": "d62006db-a6d5-4e6e-a06d-8da9ba788557"
      },
      "execution_count": 333,
      "outputs": [
        {
          "output_type": "display_data",
          "data": {
            "text/plain": [
              "<Figure size 640x480 with 1 Axes>"
            ],
            "image/png": "[encoded data removed]"
          },
          "metadata": {}
        }
      ]
    },
    {
      "cell_type": "code",
      "source": [
        "plt.title('Loss')\n",
        "plt.plot(linear_model.loss_history);"
      ],
      "metadata": {
        "colab": {
          "base_uri": "https://localhost:8080/",
          "height": 452
        },
        "id": "-dU3s48ZDR-0",
        "outputId": "6c9cdb5d-9225-40c8-e2bd-4a95943026c1"
      },
      "execution_count": 334,
      "outputs": [
        {
          "output_type": "display_data",
          "data": {
            "text/plain": [
              "<Figure size 640x480 with 1 Axes>"
            ],
            "image/png": "[encoded data removed]"
          },
          "metadata": {}
        }
      ]
    },
    {
      "cell_type": "markdown",
      "source": [
        "**LUNAR** Linear Regression <br>\n",
        "___\n",
        "Test #2 Multiple Variable Linear Regression:"
      ],
      "metadata": {
        "id": "gzQpFoHigVCP"
      }
    },
    {
      "cell_type": "code",
      "source": [
        "X = np.array([[1, 2], [3, 4], [5, 6]])\n",
        "y = np.array([3, 7, 11])"
      ],
      "metadata": {
        "id": "eOyPl8skfbkZ"
      },
      "execution_count": 335,
      "outputs": []
    },
    {
      "cell_type": "code",
      "source": [
        "X.shape"
      ],
      "metadata": {
        "colab": {
          "base_uri": "https://localhost:8080/"
        },
        "id": "V4H_2xp4-5T6",
        "outputId": "3029bfa5-5b00-4a95-852a-6bb2239f2ff3"
      },
      "execution_count": 336,
      "outputs": [
        {
          "output_type": "execute_result",
          "data": {
            "text/plain": [
              "(3, 2)"
            ]
          },
          "metadata": {},
          "execution_count": 336
        }
      ]
    },
    {
      "cell_type": "code",
      "source": [
        "linear_model = LinearRegression()\n",
        "linear_model.fit(X, y, epochs=1500, verbose=2, modifier='early_stopping_modifier', patience=7, delta=0.0001)"
      ],
      "metadata": {
        "colab": {
          "base_uri": "https://localhost:8080/"
        },
        "id": "cYF9h5Vg-_4R",
        "outputId": "4ac1be4e-a397-4c76-815e-0ca3fffc01ea"
      },
      "execution_count": 337,
      "outputs": [
        {
          "output_type": "stream",
          "name": "stdout",
          "text": [
            "On Epoch: 0 | Loss is: 28.35562962962963\n",
            "1\n",
            "On Epoch: 1 | Loss is: 13.481166794403299\n",
            "1\n",
            "On Epoch: 2 | Loss is: 6.414950896224368\n",
            "1\n",
            "On Epoch: 3 | Loss is: 3.058067728757532\n",
            "1\n",
            "On Epoch: 4 | Loss is: 1.4633151099424868\n",
            "1\n",
            "On Epoch: 5 | Loss is: 0.7056684722803993\n",
            "1\n",
            "On Epoch: 6 | Loss is: 0.34569196271531194\n",
            "1\n",
            "On Epoch: 7 | Loss is: 0.17463018551999784\n",
            "1\n",
            "On Epoch: 8 | Loss is: 0.09331322710993549\n",
            "1\n",
            "On Epoch: 9 | Loss is: 0.05463010440731166\n",
            "1\n",
            "On Epoch: 10 | Loss is: 0.03620059422084857\n",
            "1\n",
            "On Epoch: 11 | Loss is: 0.027392899206866893\n",
            "1\n",
            "On Epoch: 12 | Loss is: 0.023156348951201167\n",
            "1\n",
            "On Epoch: 13 | Loss is: 0.021091605077835113\n",
            "1\n",
            "On Epoch: 14 | Loss is: 0.02005885290304189\n",
            "1\n",
            "On Epoch: 15 | Loss is: 0.019516618470885316\n",
            "1\n",
            "On Epoch: 16 | Loss is: 0.01920767149102097\n",
            "1\n",
            "On Epoch: 17 | Loss is: 0.019009812534089236\n",
            "1\n",
            "On Epoch: 18 | Loss is: 0.018864989016087377\n",
            "1\n",
            "On Epoch: 19 | Loss is: 0.018745621522122762\n",
            "1\n",
            "On Epoch: 20 | Loss is: 0.018638607019785532\n",
            "1\n",
            "On Epoch: 21 | Loss is: 0.01853771953494159\n",
            "1\n",
            "On Epoch: 22 | Loss is: 0.018440000068655853\n",
            "2\n",
            "On Epoch: 23 | Loss is: 0.01834404161575055\n",
            "2\n",
            "On Epoch: 24 | Loss is: 0.018249174457406796\n",
            "2\n",
            "On Epoch: 25 | Loss is: 0.01815507913179443\n",
            "2\n",
            "On Epoch: 26 | Loss is: 0.018061602574511487\n",
            "2\n",
            "On Epoch: 27 | Loss is: 0.017968670775481563\n",
            "2\n",
            "On Epoch: 28 | Loss is: 0.017876247286301907\n",
            "2\n",
            "On Epoch: 29 | Loss is: 0.017784313508993222\n",
            "0\n"
          ]
        },
        {
          "output_type": "execute_result",
          "data": {
            "text/plain": [
              "(array([0.85755245, 1.06778331]), 0.2102308600539743)"
            ]
          },
          "metadata": {},
          "execution_count": 337
        }
      ]
    },
    {
      "cell_type": "code",
      "source": [
        "linear_model.predict(X)"
      ],
      "metadata": {
        "colab": {
          "base_uri": "https://localhost:8080/"
        },
        "id": "T9j7d5-f_DAq",
        "outputId": "c8ce02d6-7340-4235-f13d-ffcce19a7bb2"
      },
      "execution_count": 338,
      "outputs": [
        {
          "output_type": "execute_result",
          "data": {
            "text/plain": [
              "[3.203349943984716, 7.054021482523055, 10.904693021061394]"
            ]
          },
          "metadata": {},
          "execution_count": 338
        }
      ]
    },
    {
      "cell_type": "code",
      "source": [
        "plt.plot(linear_model.loss_history);"
      ],
      "metadata": {
        "colab": {
          "base_uri": "https://localhost:8080/",
          "height": 430
        },
        "id": "r8T_7_3bC6r0",
        "outputId": "c16c08aa-f14a-4bbc-f2a2-0ceda4575844"
      },
      "execution_count": 339,
      "outputs": [
        {
          "output_type": "display_data",
          "data": {
            "text/plain": [
              "<Figure size 640x480 with 1 Axes>"
            ],
            "image/png": "[encoded data removed]"
          },
          "metadata": {}
        }
      ]
    },
    {
      "cell_type": "markdown",
      "source": [
        "YO!!!! <br>\n",
        "That works nearly perfect!"
      ],
      "metadata": {
        "id": "UJz4gQq0_ZA4"
      }
    },
    {
      "cell_type": "code",
      "source": [
        "### Place for future code"
      ],
      "metadata": {
        "id": "hTv-a6Qn_rTp"
      },
      "execution_count": 340,
      "outputs": []
    },
    {
      "cell_type": "markdown",
      "source": [
        "Details on LUNA-R. <br>\n",
        "LUNA-R is gonna be an open-source fan-made Machine Learning Framework. <br>\n",
        "\n",
        "- Fully written on python\n",
        "- Open Source\n",
        "- Made For Educational Purposes\n",
        "___\n",
        "\n",
        "LUNA-R is not gonna be something large and COOL.<br>\n",
        "Main Idea of project is to implement Machine Learning algorithms from scratch."
      ],
      "metadata": {
        "id": "RYHJIs8nABf-"
      }
    },
    {
      "cell_type": "code",
      "source": [],
      "metadata": {
        "id": "qfPAag_JAhmw"
      },
      "execution_count": 340,
      "outputs": []
    }
  ]
}